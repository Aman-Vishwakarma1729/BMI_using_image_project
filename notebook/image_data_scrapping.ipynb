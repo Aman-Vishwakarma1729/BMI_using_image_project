{
 "cells": [
  {
   "cell_type": "markdown",
   "metadata": {},
   "source": [
    "# Image scrapping"
   ]
  },
  {
   "cell_type": "code",
   "execution_count": 1,
   "metadata": {},
   "outputs": [],
   "source": [
    "import os\n",
    "import requests\n",
    "from bs4 import BeautifulSoup\n",
    "from urllib.parse import urljoin\n",
    "from urllib.request import urlretrieve\n",
    "\n",
    "\n",
    "def image_scrapping(url):\n",
    "    for i in range(1,50):\n",
    "      print(f\"We are on page: {i}\")\n",
    "      url = urljoin(url,f\"?page{i}\")\n",
    "\n",
    "      response = requests.get(url)\n",
    "\n",
    "      if response.status_code != 200:\n",
    "         print(\"There is error is getting the URL\")\n",
    "         return\n",
    "            \n",
    "      soup = BeautifulSoup(response.content,\"html.parser\")\n",
    "      img_tags = soup.find_all(\"img\")\n",
    "            \n",
    "      os.makedirs(\"scraped_images\", exist_ok=True)\n",
    "      \n",
    "      for img_tag in img_tags:\n",
    "          img_url = img_tag.get(\"src\")\n",
    "          if img_url:\n",
    "             img_url = urljoin(url, img_url)\n",
    "             img_name = os.path.basename(img_url)\n",
    "             img_path = os.path.join(\"scraped_images\", img_name)\n",
    "\n",
    "          try:\n",
    "             urlretrieve(img_url, img_path)\n",
    "             print(f\"Downloaded: {img_url}\")\n",
    "          except Exception as e:\n",
    "             print(f\"Failed to download: {img_url}\")\n",
    "             print(f\"Error: {e}\")    "
   ]
  },
  {
   "cell_type": "code",
   "execution_count": null,
   "metadata": {},
   "outputs": [],
   "source": []
  },
  {
   "cell_type": "code",
   "execution_count": null,
   "metadata": {},
   "outputs": [],
   "source": []
  }
 ],
 "metadata": {
  "kernelspec": {
   "display_name": "Python 3",
   "language": "python",
   "name": "python3"
  },
  "language_info": {
   "codemirror_mode": {
    "name": "ipython",
    "version": 3
   },
   "file_extension": ".py",
   "mimetype": "text/x-python",
   "name": "python",
   "nbconvert_exporter": "python",
   "pygments_lexer": "ipython3",
   "version": "3.8.0"
  },
  "orig_nbformat": 4
 },
 "nbformat": 4,
 "nbformat_minor": 2
}
