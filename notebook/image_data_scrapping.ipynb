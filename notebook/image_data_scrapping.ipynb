{
 "cells": [
  {
   "cell_type": "markdown",
   "metadata": {},
   "source": [
    "# Scrapping images and BMI from different sources"
   ]
  },
  {
   "cell_type": "markdown",
   "metadata": {},
   "source": [
    "#### Scrapping fro \"http://xn-----6kcczalffeh6afgdgdi2apgjghic4org.xn--p1ai/\" website which has facial images of celebrities with their BMI"
   ]
  },
  {
   "cell_type": "code",
   "execution_count": 15,
   "metadata": {},
   "outputs": [],
   "source": [
    "\n",
    "import os\n",
    "import pandas as pd\n",
    "import requests\n",
    "from bs4 import BeautifulSoup\n",
    "from urllib.parse import urljoin\n",
    "from urllib.request import urlretrieve\n",
    "\n",
    "\n",
    "def get_page_urls(url):\n",
    "    image_page_link = []\n",
    "    for i in range(1,50):                 ## Here range(1,50) describes the number of pages on this website which may increase in future if the data is updated we need to update this range likewise.\n",
    "        print(f\"Scrapping image page links of {i} page\")\n",
    "        url = urljoin(url,f\"?page{i}\")    ## To create a url of specific page\n",
    "        try:\n",
    "            response = requests.get(url)\n",
    "        except Exception as e:\n",
    "            print(f'There is problem while accesing the given url: {url} and error is: {e} on page number {i}')\n",
    "        \n",
    "        try:\n",
    "            soup = BeautifulSoup(response.content,\"html.parser\")\n",
    "            parsing_1 = soup.find_all('div',{'class':'content_body'})[0].find_all('div',{'class':'proton_tile'})\n",
    "        except Exception as e:\n",
    "            print(f'There is problem in parsing the link {url}')\n",
    "        \n",
    "        try:\n",
    "            for element in parsing_1:\n",
    "                pg_links = element.find_all('a')\n",
    "                for pg_link in pg_links:\n",
    "                    link = pg_link.get('href')\n",
    "                    link = urljoin(url,link)\n",
    "                    image_page_link.append(link)\n",
    "            \n",
    "        except Exception as e:\n",
    "            print(f'There is problem in getting image page link for {url} of page {i}')\n",
    "    \n",
    "    return image_page_link,len(image_page_link)\n",
    "\n",
    "def get_image_and_details():\n",
    "    image_page_link_list,_ = get_page_urls(\"http://xn-----6kcczalffeh6afgdgdi2apgjghic4org.xn--p1ai/\")\n",
    "    count = 0\n",
    "    os.makedirs(\"scraped_images\", exist_ok=True)\n",
    "    image_names_with_height = {}\n",
    "    for img_links in image_page_link_list:\n",
    "        count=count+1\n",
    "        print(f'We are on {count} image')\n",
    "        try:\n",
    "            response = requests.get(img_links)\n",
    "        except Exception as e:\n",
    "            print(f'There is problem while accesing the given url: {img_links} and error is: {e} on image number {count}')\n",
    "        \n",
    "        try:\n",
    "            soup = BeautifulSoup(response.content,'html.parser')\n",
    "            parsing_2 = soup.find('div',{'class':'content_body'}).find('div').find('div',{'class':'eMessage'}).find_all('div')[0]\n",
    "            parsing_3 = soup.find('div',{'class':'content_body'}).find('span')\n",
    "        except Exception as e:\n",
    "            print(f'There is problem in parsing the link {img_links}')\n",
    "\n",
    "        try:\n",
    "            img_tags = parsing_2.find_all('img')\n",
    "            text = parsing_3.text\n",
    "            height = text.split(\" \")[2]\n",
    "            img_url = img_tags[0].get('src')\n",
    "            img_url = img_url.strip()\n",
    "            if img_url:\n",
    "                     img_url = urljoin(\"http://xn-----6kcczalffeh6afgdgdi2apgjghic4org.xn--p1ai\",img_url)\n",
    "                     img_name = os.path.basename(img_url)\n",
    "                     img_path = os.path.join(\"scraped_images\", img_name)\n",
    "                     try:\n",
    "                        urlretrieve(img_url, img_path)\n",
    "                        print(f\"Downloaded: {img_url}\")\n",
    "                        image_names_with_height[img_name] = height\n",
    "                        print(f\"{img_name}:{height}\")\n",
    "                     except Exception as e:\n",
    "                        print(f\"Failed to download: {img_url}\")\n",
    "                        print(f\"Error: {e}\")\n",
    "        except Exception as e:\n",
    "            print(\"There is problem in getting imag_tags and text\")\n",
    "        \n",
    "        \n",
    "    \n",
    "    return image_names_with_height\n",
    "\n",
    "def getting_dataframe():\n",
    "    image_names_with_height = get_image_and_details()\n",
    "    img_name = []\n",
    "    height = []\n",
    "    for key,value in image_names_with_height.items():\n",
    "        img_name.append(key)\n",
    "        height.append(value)\n",
    "    \n",
    "    data_1 = pd.DataFrame({\"image_name\":img_name,\"height\":height})\n",
    "    data_1.to_csv(\"image_names_with_height_data.csv\")\n",
    "    \n",
    "    return data_1"
   ]
  },
  {
   "cell_type": "code",
   "execution_count": null,
   "metadata": {},
   "outputs": [],
   "source": [
    "getting_dataframe()"
   ]
  },
  {
   "cell_type": "code",
   "execution_count": null,
   "metadata": {},
   "outputs": [],
   "source": []
  }
 ],
 "metadata": {
  "kernelspec": {
   "display_name": "Python 3",
   "language": "python",
   "name": "python3"
  },
  "language_info": {
   "codemirror_mode": {
    "name": "ipython",
    "version": 3
   },
   "file_extension": ".py",
   "mimetype": "text/x-python",
   "name": "python",
   "nbconvert_exporter": "python",
   "pygments_lexer": "ipython3",
   "version": "3.8.0"
  },
  "orig_nbformat": 4
 },
 "nbformat": 4,
 "nbformat_minor": 2
}
